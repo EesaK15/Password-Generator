{
 "cells": [
  {
   "cell_type": "code",
   "execution_count": null,
   "id": "9f04605c",
   "metadata": {},
   "outputs": [],
   "source": []
  },
  {
   "cell_type": "code",
   "execution_count": null,
   "id": "fdb484b5",
   "metadata": {},
   "outputs": [],
   "source": []
  },
  {
   "cell_type": "code",
   "execution_count": 1,
   "id": "09a58d57",
   "metadata": {},
   "outputs": [
    {
     "name": "stdout",
     "output_type": "stream",
     "text": [
      "Welcome to Password Generator:\n",
      "How Many Characters Should the Password Be: 6\n",
      "Should There Be Special Keys? (yes/no): no\n",
      "Should There Be Numbers? (yes/no): yes\n",
      "Your Password is:\n",
      " 8HXe9G\n",
      "Would You Like To Save Your Password? (yes/no)yes\n",
      "What Would You Like this Password Saved For?: School\n"
     ]
    }
   ],
   "source": [
    "import random\n",
    "import string\n",
    "\n",
    "print('Welcome to Password Generator:')\n",
    "\n",
    "password = ''\n",
    "numKey = int(input('How Many Characters Should the Password Be: '))\n",
    "specKey = input('Should There Be Special Keys? (yes/no): ').lower()\n",
    "numm = input('Should There Be Numbers? (yes/no): ').lower()\n",
    "\n",
    "if specKey == 'no' and numm == 'no':\n",
    "    for i in range(numKey):\n",
    "        password += random.choice(string.ascii_letters)\n",
    "elif specKey == 'yes' and numm == 'yes':\n",
    "    for i in range(numKey):\n",
    "        password += random.choice(string.ascii_letters + string.digits + string.punctuation)\n",
    "elif specKey == 'yes' and numm == 'no':\n",
    "    for i in range(numKey):\n",
    "        password += random.choice(string.ascii_letters + string.punctuation)\n",
    "elif specKey == 'no' and numm == 'yes':\n",
    "    for i in range(numKey):\n",
    "        password += random.choice(string.ascii_letters + string.digits)\n",
    "        \n",
    "\n",
    "print(f'Your Password is:\\n {password}')\n",
    "\n",
    "dec = str(input('Would You Like To Save Your Password? (yes/no)')).lower()\n",
    "usage = str(input('What Would You Like this Password Saved For?: '))\n",
    "\n",
    "if dec == 'yes':\n",
    "    savedPass = open('SavedPasswords.txt', 'a')\n",
    "    savedPass.write('\\n' + usage + '\\t\\t\\t\\t' + password)    \n",
    "    savedPass.close()"
   ]
  },
  {
   "cell_type": "code",
   "execution_count": null,
   "id": "1f289507",
   "metadata": {},
   "outputs": [],
   "source": []
  },
  {
   "cell_type": "code",
   "execution_count": null,
   "id": "eaf7e3fc",
   "metadata": {},
   "outputs": [],
   "source": []
  },
  {
   "cell_type": "code",
   "execution_count": null,
   "id": "365154f8",
   "metadata": {},
   "outputs": [],
   "source": []
  },
  {
   "cell_type": "code",
   "execution_count": null,
   "id": "a8da7cb0",
   "metadata": {},
   "outputs": [],
   "source": []
  },
  {
   "cell_type": "code",
   "execution_count": null,
   "id": "522f4fe8",
   "metadata": {},
   "outputs": [],
   "source": []
  }
 ],
 "metadata": {
  "kernelspec": {
   "display_name": "Python 3 (ipykernel)",
   "language": "python",
   "name": "python3"
  },
  "language_info": {
   "codemirror_mode": {
    "name": "ipython",
    "version": 3
   },
   "file_extension": ".py",
   "mimetype": "text/x-python",
   "name": "python",
   "nbconvert_exporter": "python",
   "pygments_lexer": "ipython3",
   "version": "3.10.9"
  }
 },
 "nbformat": 4,
 "nbformat_minor": 5
}
